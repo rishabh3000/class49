{
 "cells": [
  {
   "cell_type": "code",
   "execution_count": 1,
   "metadata": {},
   "outputs": [],
   "source": [
    "a_number=60\n"
   ]
  },
  {
   "cell_type": "code",
   "execution_count": 2,
   "metadata": {},
   "outputs": [
    {
     "name": "stdout",
     "output_type": "stream",
     "text": [
      "the given number is even:  60\n"
     ]
    }
   ],
   "source": [
    "if a_number % 2==0:\n",
    "    print(\"the given number is even: \",a_number)"
   ]
  },
  {
   "cell_type": "code",
   "execution_count": 3,
   "metadata": {},
   "outputs": [],
   "source": [
    "a_number=59"
   ]
  },
  {
   "cell_type": "code",
   "execution_count": 5,
   "metadata": {},
   "outputs": [
    {
     "name": "stdout",
     "output_type": "stream",
     "text": [
      "the given number is odd:  59\n"
     ]
    }
   ],
   "source": [
    "if a_number % 2==0:\n",
    "    print(\"the given number is even: \",a_number)\n",
    "else:\n",
    "    print(\"the given number is odd: \",a_number)"
   ]
  },
  {
   "cell_type": "code",
   "execution_count": 6,
   "metadata": {},
   "outputs": [],
   "source": [
    "the_2_bros= (\"Raja, Ast\")"
   ]
  },
  {
   "cell_type": "code",
   "execution_count": 7,
   "metadata": {},
   "outputs": [],
   "source": [
    "a_can=\"Adarsh\""
   ]
  },
  {
   "cell_type": "code",
   "execution_count": 9,
   "metadata": {},
   "outputs": [
    {
     "name": "stdout",
     "output_type": "stream",
     "text": [
      "sorry\n"
     ]
    }
   ],
   "source": [
    "if a_can in  the_2_bros:\n",
    "    print(\"thanks\")\n",
    "else:\n",
    "    print(\"sorry\")"
   ]
  },
  {
   "cell_type": "code",
   "execution_count": 1,
   "metadata": {},
   "outputs": [],
   "source": [
    "today = 'wednesday'\n"
   ]
  },
  {
   "cell_type": "code",
   "execution_count": 2,
   "metadata": {},
   "outputs": [],
   "source": [
    "if today == 'Sunday':\n",
    "    print(\"Today is the day of the sun.\")\n",
    "elif today == 'Monday':\n",
    "    print(\"Today is the day of the moon.\")\n",
    "elif today == 'Tuesday':\n",
    "    print(\"Today is the day of Tyr, the god of war.\")\n",
    "elif today == 'Wednesday':\n",
    "    print(\"Today is the day of Odin, the supreme diety.\")\n",
    "elif today == 'Thursday':\n",
    "    print(\"Today is the day of Thor, the god of thunder.\")\n",
    "elif today == 'Friday':\n",
    "    print(\"Today is the day of Frigga, the goddess of beauty.\")\n",
    "elif today == 'Saturday':\n",
    "    print(\"Today is the day of Saturn, the god of fun and feasting.\")"
   ]
  },
  {
   "cell_type": "code",
   "execution_count": 8,
   "metadata": {},
   "outputs": [],
   "source": [
    "no = 15"
   ]
  },
  {
   "cell_type": "code",
   "execution_count": 11,
   "metadata": {},
   "outputs": [
    {
     "name": "stdout",
     "output_type": "stream",
     "text": [
      "15 is divisible by 3\n",
      "15 is divisble by 5\n"
     ]
    }
   ],
   "source": [
    "if no % 2==0:\n",
    "    #print(\"{} is divisible by 2\".format(no))\n",
    "    print(f\"{no} is divisble by 2\")\n",
    "if no % 3 ==0:\n",
    "    print(f\"{no} is divisible by 3\")\n",
    "          \n",
    "if no % 5== 0:\n",
    "          print(f\"{no} is divisble by 5\")"
   ]
  },
  {
   "cell_type": "code",
   "execution_count": 18,
   "metadata": {},
   "outputs": [],
   "source": [
    "no=47\n"
   ]
  },
  {
   "cell_type": "code",
   "execution_count": 20,
   "metadata": {},
   "outputs": [
    {
     "name": "stdout",
     "output_type": "stream",
     "text": [
      "all check is fail\n",
      "47 is not divisible by 2,3,5,7\n"
     ]
    }
   ],
   "source": [
    "if no % 2==0:\n",
    "    print(f\"{no} is divisble by 2\")\n",
    "elif no % 3==0:\n",
    "    print(f\"{no} is divisible by 3\")\n",
    "elif no % 5== 0:\n",
    "    print(f\"{no} is divible by 5\")\n",
    "elif no % 7== 0:\n",
    "    print(f\"{no} is divisble by 7\")\n",
    "else:\n",
    "    print(\"all check is fail\")\n",
    "    print(f\"{no} is not divisible by 2,3,5,7\")"
   ]
  },
  {
   "cell_type": "code",
   "execution_count": 26,
   "metadata": {},
   "outputs": [
    {
     "name": "stdout",
     "output_type": "stream",
     "text": [
      " the number 13  is odd   \n"
     ]
    }
   ],
   "source": [
    "no = 13 \n",
    "if no % 2 ==0:\n",
    "    parity = \"even\"\n",
    "else:\n",
    "    parity = \"odd\"\n",
    "print(f\" the number {no}  is {parity}   \")"
   ]
  },
  {
   "cell_type": "code",
   "execution_count": 36,
   "metadata": {},
   "outputs": [],
   "source": [
    "no=9"
   ]
  },
  {
   "cell_type": "code",
   "execution_count": 37,
   "metadata": {},
   "outputs": [
    {
     "name": "stdout",
     "output_type": "stream",
     "text": [
      "9 is divisible by 3 \n"
     ]
    }
   ],
   "source": [
    "if no % 2==0:\n",
    "    pass\n",
    "elif no %3 ==0:\n",
    "    print(f\"{no} is divisible by 3 \")"
   ]
  },
  {
   "cell_type": "code",
   "execution_count": 2,
   "metadata": {},
   "outputs": [],
   "source": [
    "from turtle import Turtle\n",
    "from turtle import Screen"
   ]
  },
  {
   "cell_type": "code",
   "execution_count": 3,
   "metadata": {},
   "outputs": [],
   "source": [
    "\n",
    "tut = Turtle(shape=\"turtle\")\n",
    "screen = Screen()\n",
    "tut.color(\"red\")\n",
    "\n",
    "screen.bgcolor(\"black\")\n",
    "\n",
    "screen.listen()\n",
    "\n",
    "def move():\n",
    "    tut.forward(20)\n",
    "def backward():\n",
    "    tut.backward(20)\n",
    "def left():\n",
    "    tut.left(20)\n",
    "def right():\n",
    "    tut.right(20)\n",
    "def screenClear():\n",
    "    tut.reset()\n",
    "\n",
    "screen.onkey(key=\"w\", fun=move)\n",
    "screen.onkey(key=\"s\", fun=backward)\n",
    "screen.onkey(key=\"a\", fun=left)\n",
    "screen.onkey(key=\"d\", fun=right)\n",
    "screen.onkey(key=\"c\", fun=screenClear)\n",
    "\n"
   ]
  },
  {
   "cell_type": "code",
   "execution_count": 1,
   "metadata": {},
   "outputs": [
    {
     "data": {
      "application/javascript": [
       "window.require && require([\"base/js/namespace\"],function(Jupyter){Jupyter.notebook.save_checkpoint()})"
      ],
      "text/plain": [
       "<IPython.core.display.Javascript object>"
      ]
     },
     "metadata": {},
     "output_type": "display_data"
    },
    {
     "name": "stdout",
     "output_type": "stream",
     "text": [
      "[jovian] Creating a new project \"btech15277-18/python-branching-and-loops\"\n",
      "[jovian] Committed successfully! https://jovian.ai/btech15277-18/python-branching-and-loops\n"
     ]
    },
    {
     "data": {
      "text/plain": [
       "'https://jovian.ai/btech15277-18/python-branching-and-loops'"
      ]
     },
     "execution_count": 1,
     "metadata": {},
     "output_type": "execute_result"
    }
   ],
   "source": [
    "jovian.commit(project='python-branching-and-loops')"
   ]
  },
  {
   "cell_type": "code",
   "execution_count": 2,
   "metadata": {},
   "outputs": [],
   "source": [
    "import jovian\n"
   ]
  },
  {
   "cell_type": "code",
   "execution_count": 26,
   "metadata": {},
   "outputs": [
    {
     "name": "stdout",
     "output_type": "stream",
     "text": [
      "enter the input: 68\n",
      " the factorial of 68 is : 2480035542436830599600990418569171581047399201355367672371710738018221445712183296000000000000000  \n",
      "Wall time: 3.06 s\n"
     ]
    }
   ],
   "source": [
    "%%time\n",
    "result = 1\n",
    "i =1\n",
    "n= int(input(\"enter the input: \"))\n",
    "while i <= n:\n",
    "    result = result * i\n",
    "    i +=1\n",
    "print(f\" the factorial of {n} is : {result}  \")"
   ]
  },
  {
   "cell_type": "code",
   "execution_count": 2,
   "metadata": {},
   "outputs": [
    {
     "name": "stdout",
     "output_type": "stream",
     "text": [
      "stop the  execution\n",
      "1405006117752879898543142606244511569936384000000000\n"
     ]
    }
   ],
   "source": [
    "i=1 \n",
    "result= 1\n",
    "while i <=100:\n",
    "    result*=i\n",
    "    if i ==42:\n",
    "        print(\"stop the  execution\")\n",
    "        break\n",
    "    i +=1\n",
    "print(result)"
   ]
  },
  {
   "cell_type": "code",
   "execution_count": 1,
   "metadata": {},
   "outputs": [
    {
     "data": {
      "application/javascript": [
       "window.require && require([\"base/js/namespace\"],function(Jupyter){Jupyter.notebook.save_checkpoint()})"
      ],
      "text/plain": [
       "<IPython.core.display.Javascript object>"
      ]
     },
     "metadata": {},
     "output_type": "display_data"
    },
    {
     "name": "stdout",
     "output_type": "stream",
     "text": [
      "[jovian] Updating notebook \"btech15277-18/python-branching-and-loops\" on https://jovian.ai/\n",
      "[jovian] Committed successfully! https://jovian.ai/btech15277-18/python-branching-and-loops\n"
     ]
    },
    {
     "data": {
      "text/plain": [
       "'https://jovian.ai/btech15277-18/python-branching-and-loops'"
      ]
     },
     "execution_count": 1,
     "metadata": {},
     "output_type": "execute_result"
    }
   ],
   "source": [
    "jovian.commit(project='python-branching-and-loops')"
   ]
  },
  {
   "cell_type": "code",
   "execution_count": 3,
   "metadata": {},
   "outputs": [
    {
     "name": "stdout",
     "output_type": "stream",
     "text": [
      "2 skipping\n",
      " multiply with 3 \n",
      "4 skipping\n",
      " multiply with 5 \n",
      "6 skipping\n",
      " multiply with 7 \n",
      "8 skipping\n",
      " multiply with 9 \n",
      "10 skipping\n",
      " multiply with 11 \n",
      "12 skipping\n",
      " multiply with 13 \n",
      "14 skipping\n",
      " multiply with 15 \n",
      "16 skipping\n",
      " multiply with 17 \n",
      "18 skipping\n",
      " multiply with 19 \n",
      "20 skipping\n",
      "654729075\n"
     ]
    }
   ],
   "source": [
    "i =1\n",
    "result= 1\n",
    "while i <20:\n",
    "    i +=1\n",
    "    if i % 2==0:\n",
    "        print(f\"{i} skipping\")\n",
    "        continue\n",
    "    print(f\" multiply with {i} \")\n",
    "    result= result*i\n",
    "    \n",
    "print(result)"
   ]
  },
  {
   "cell_type": "code",
   "execution_count": 5,
   "metadata": {},
   "outputs": [
    {
     "name": "stdout",
     "output_type": "stream",
     "text": [
      "1\n",
      "2\n",
      "3\n",
      "4\n",
      "6\n",
      "7\n",
      "8\n",
      "9\n",
      "10\n"
     ]
    }
   ],
   "source": [
    "for i in range(1,11):\n",
    "    if i==5:\n",
    "        continue\n",
    "    print(i)"
   ]
  },
  {
   "cell_type": "code",
   "execution_count": 6,
   "metadata": {},
   "outputs": [
    {
     "name": "stdout",
     "output_type": "stream",
     "text": [
      "1\n",
      "2\n",
      "3\n",
      "4\n"
     ]
    }
   ],
   "source": [
    "for i in range(1,11):\n",
    "    if i==5:\n",
    "        break\n",
    "    print(i)"
   ]
  },
  {
   "cell_type": "code",
   "execution_count": 8,
   "metadata": {},
   "outputs": [
    {
     "name": "stdout",
     "output_type": "stream",
     "text": [
      "R\n",
      "I\n",
      "s\n",
      "h\n",
      "a\n",
      "b\n",
      "h\n"
     ]
    }
   ],
   "source": [
    "for char in \"RIshabh\":\n",
    "    print(char)"
   ]
  },
  {
   "cell_type": "code",
   "execution_count": 9,
   "metadata": {},
   "outputs": [
    {
     "name": "stdout",
     "output_type": "stream",
     "text": [
      "Here's a fruit: Apple\n",
      "Here's a fruit: Banana\n",
      "Here's a fruit: Guava\n"
     ]
    }
   ],
   "source": [
    "for fruit in ['Apple', 'Banana', 'Guava']:\n",
    "    print(\"Here's a fruit:\", fruit)"
   ]
  },
  {
   "cell_type": "code",
   "execution_count": 10,
   "metadata": {},
   "outputs": [
    {
     "name": "stdout",
     "output_type": "stream",
     "text": [
      "Key: name , Value: ast\n",
      "Key: sex , Value: Male\n",
      "Key: age , Value: 20\n",
      "Key: married , Value: False\n"
     ]
    }
   ],
   "source": [
    "person = {\n",
    "    'name': 'ast',\n",
    "    'sex': 'Male',\n",
    "    'age': 20,\n",
    "    'married': False\n",
    "}\n",
    "\n",
    "for key in person:\n",
    "    print(\"Key:\", key, \",\", \"Value:\", person[key])"
   ]
  },
  {
   "cell_type": "code",
   "execution_count": 11,
   "metadata": {},
   "outputs": [
    {
     "name": "stdout",
     "output_type": "stream",
     "text": [
      "name : John\n",
      "sex : Male\n",
      " \n",
      "name : Jane\n",
      "sex : Female\n",
      " \n"
     ]
    }
   ],
   "source": [
    "persons = [{'name': 'John', 'sex': 'Male'}, {'name': 'Jane', 'sex': 'Female'}]\n",
    "\n",
    "for person in persons:\n",
    "    for key in person:\n",
    "        print(key, \":\", person[key])\n",
    "    print(\" \")"
   ]
  },
  {
   "cell_type": "code",
   "execution_count": null,
   "metadata": {},
   "outputs": [
    {
     "data": {
      "application/javascript": [
       "window.require && require([\"base/js/namespace\"],function(Jupyter){Jupyter.notebook.save_checkpoint()})"
      ],
      "text/plain": [
       "<IPython.core.display.Javascript object>"
      ]
     },
     "metadata": {},
     "output_type": "display_data"
    }
   ],
   "source": [
    "jovian.commit(project='python-branching-and-loops')"
   ]
  },
  {
   "cell_type": "code",
   "execution_count": null,
   "metadata": {},
   "outputs": [],
   "source": []
  }
 ],
 "metadata": {
  "kernelspec": {
   "display_name": "Python 3",
   "language": "python",
   "name": "python3"
  },
  "language_info": {
   "codemirror_mode": {
    "name": "ipython",
    "version": 3
   },
   "file_extension": ".py",
   "mimetype": "text/x-python",
   "name": "python",
   "nbconvert_exporter": "python",
   "pygments_lexer": "ipython3",
   "version": "3.8.3"
  }
 },
 "nbformat": 4,
 "nbformat_minor": 4
}
